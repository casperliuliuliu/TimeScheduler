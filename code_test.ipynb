{
 "cells": [
  {
   "cell_type": "code",
   "execution_count": 4,
   "metadata": {},
   "outputs": [
    {
     "name": "stdout",
     "output_type": "stream",
     "text": [
      "Resulting DataFrame:\n",
      "   mon  tue  wed  thu  fri\n",
      "0    0    0    1    2    1\n",
      "1    1    0    1    0    2\n",
      "2    0    0    2    0    1\n",
      "3    1    0    1    1    1\n",
      "4    0    0    1    0    1\n",
      "5    0    0    0    1    1\n",
      "6    0    0    1    0    2\n"
     ]
    }
   ],
   "source": [
    "import pandas as pd\n",
    "import numpy as np\n",
    "\n",
    "# Create multiple DataFrames (you can add more as needed)\n",
    "data1 = {\n",
    "    'mon': [0, 0, 0, 1, 0, 0, 0],\n",
    "    'tue': [0, 0, 0, 0, 0, 0, 0],\n",
    "    'wed': [1, 1, 1, 0, 0, 0, 1],\n",
    "    'thu': [1, 0, 0, 1, 0, 0, 0],\n",
    "    'fri': [1, 1, 1, 1, 1, 1, 1]\n",
    "}\n",
    "\n",
    "data2 = {\n",
    "    'mon': [0, 1, 0, 0, 0, 0, 0],\n",
    "    'tue': [0, 0, 0, 0, 0, 0, 0],\n",
    "    'wed': [0, 0, 1, 1, 1, 0, 0],\n",
    "    'thu': [1, 0, 0, 0, 0, 1, 0],\n",
    "    'fri': [0, 1, 0, 0, 0, 0, 1]\n",
    "}\n",
    "\n",
    "df1 = pd.DataFrame(data1)\n",
    "df2 = pd.DataFrame(data2)\n",
    "\n",
    "# Convert DataFrames to NumPy arrays\n",
    "array1 = df1.to_numpy()\n",
    "array2 = df2.to_numpy()\n",
    "\n",
    "# Perform element-wise addition\n",
    "result_array = array1 + array2\n",
    "\n",
    "# Convert the result back to a DataFrame (if needed)\n",
    "result_df = pd.DataFrame(result_array, columns=df1.columns)\n",
    "\n",
    "# Print the result\n",
    "print(\"Resulting DataFrame:\")\n",
    "print(result_df)\n"
   ]
  },
  {
   "cell_type": "code",
   "execution_count": 14,
   "metadata": {},
   "outputs": [
    {
     "name": "stdout",
     "output_type": "stream",
     "text": [
      "There are invalid values in the DataFrames.\n",
      "There are invalid values in the DataFrames.\n",
      "   mon  tue wed  thu  fri\n",
      "0    0    0   1    1    1\n",
      "1    0    0   a    0    1\n",
      "2    0    0   1    0    1\n",
      "3    1    0   0    1    1\n",
      "4    0    0   0    0    1\n",
      "5    0    0   0    0    1\n",
      "6    0    0   1    0    1\n",
      "[[0 0 1 1 1]\n",
      " [0 0 'a' 0 1]\n",
      " [0 0 1 0 1]\n",
      " [1 0 0 1 1]\n",
      " [0 0 0 0 1]\n",
      " [0 0 0 0 1]\n",
      " [0 0 1 0 1]]\n"
     ]
    },
    {
     "ename": "TypeError",
     "evalue": "can only concatenate str (not \"int\") to str",
     "output_type": "error",
     "traceback": [
      "\u001b[0;31m---------------------------------------------------------------------------\u001b[0m",
      "\u001b[0;31mTypeError\u001b[0m                                 Traceback (most recent call last)",
      "\u001b[1;32m/Users/liushiwen/Desktop/大四上/scheduler/code_test.ipynb 儲存格 2\u001b[0m line \u001b[0;36m4\n\u001b[1;32m     <a href='vscode-notebook-cell:/Users/liushiwen/Desktop/%E5%A4%A7%E5%9B%9B%E4%B8%8A/scheduler/code_test.ipynb#W1sZmlsZQ%3D%3D?line=46'>47</a>\u001b[0m \u001b[39mprint\u001b[39m(array1)\n\u001b[1;32m     <a href='vscode-notebook-cell:/Users/liushiwen/Desktop/%E5%A4%A7%E5%9B%9B%E4%B8%8A/scheduler/code_test.ipynb#W1sZmlsZQ%3D%3D?line=47'>48</a>\u001b[0m \u001b[39m# Perform element-wise addition\u001b[39;00m\n\u001b[0;32m---> <a href='vscode-notebook-cell:/Users/liushiwen/Desktop/%E5%A4%A7%E5%9B%9B%E4%B8%8A/scheduler/code_test.ipynb#W1sZmlsZQ%3D%3D?line=48'>49</a>\u001b[0m result_array \u001b[39m=\u001b[39m array1 \u001b[39m+\u001b[39;49m array2\n\u001b[1;32m     <a href='vscode-notebook-cell:/Users/liushiwen/Desktop/%E5%A4%A7%E5%9B%9B%E4%B8%8A/scheduler/code_test.ipynb#W1sZmlsZQ%3D%3D?line=50'>51</a>\u001b[0m \u001b[39m# Convert the result back to a DataFrame (if needed)\u001b[39;00m\n\u001b[1;32m     <a href='vscode-notebook-cell:/Users/liushiwen/Desktop/%E5%A4%A7%E5%9B%9B%E4%B8%8A/scheduler/code_test.ipynb#W1sZmlsZQ%3D%3D?line=51'>52</a>\u001b[0m result_df \u001b[39m=\u001b[39m pd\u001b[39m.\u001b[39mDataFrame(result_array, columns\u001b[39m=\u001b[39mdf1\u001b[39m.\u001b[39mcolumns)\n",
      "\u001b[0;31mTypeError\u001b[0m: can only concatenate str (not \"int\") to str"
     ]
    }
   ],
   "source": [
    "import pandas as pd\n",
    "import numpy as np\n",
    "\n",
    "# Define a function to validate each value\n",
    "def validate_value(value):\n",
    "    if value in [0, 1] and isinstance(value, int):\n",
    "        return True\n",
    "    return False\n",
    "\n",
    "# Create multiple DataFrames (you can add more as needed)\n",
    "data1 = {\n",
    "    'mon': [0, 0, 0, 1, 0, 0, 0],\n",
    "    'tue': [0, 0, 0, 0, 0, 0, 0],\n",
    "    'wed': [1, 'a', 1, 0, 0, 0, 1],\n",
    "    'thu': [1, 0, 0, 1, 0, 0, 0],\n",
    "    'fri': [1, 1, 1, 1, 1, 1, 1]\n",
    "}\n",
    "\n",
    "data2 = {\n",
    "    'mon': [0, 1, 0, 0, 0, 0, 0],\n",
    "    'tue': [0, 0, 0, 0, 0, 0, 0],\n",
    "    'wed': [0, 3, 1, 1, 1, 0, 0],\n",
    "    'thu': [1, 0, 0, 0, 0, 1, 0],\n",
    "    'fri': [0, 1, 0, 0, 0, 0, 1]\n",
    "}\n",
    "\n",
    "df1 = pd.DataFrame(data1)\n",
    "df2 = pd.DataFrame(data2)\n",
    "\n",
    "# Check if each value belongs to {0, 1} and is an integer\n",
    "is_valid1 = df1.applymap(validate_value)\n",
    "is_valid2 = df2.applymap(validate_value)\n",
    "\n",
    "if is_valid1.all().all():\n",
    "    print(\"All values in the DataFrames are valid (belong to {0, 1} and are integers).\")\n",
    "else:\n",
    "    print(\"There are invalid values in the DataFrames.\")\n",
    "\n",
    "if is_valid2.all().all():\n",
    "    print(\"All values in the DataFrames are valid (belong to {0, 1} and are integers).\")\n",
    "else:\n",
    "    print(\"There are invalid values in the DataFrames.\")\n",
    "# Convert DataFrames to NumPy arrays\n",
    "array1 = df1.to_numpy()\n",
    "array2 = df2.to_numpy()\n",
    "print(df1)\n",
    "print(array1)\n",
    "# Perform element-wise addition\n",
    "result_array = array1 + array2\n",
    "\n",
    "# Convert the result back to a DataFrame (if needed)\n",
    "result_df = pd.DataFrame(result_array, columns=df1.columns)\n",
    "\n",
    "# Print the result\n",
    "print(\"Resulting DataFrame:\")\n",
    "print(result_df)\n"
   ]
  },
  {
   "cell_type": "code",
   "execution_count": 9,
   "metadata": {},
   "outputs": [
    {
     "name": "stdout",
     "output_type": "stream",
     "text": [
      "[[0 1 1]\n",
      " [0 0 1]\n",
      " [1 0 0]]\n",
      "DataFrame 0, Row 0, Column 2 contains 1\n",
      "DataFrame 1, Row 0, Column 2 contains 1\n"
     ]
    },
    {
     "data": {
      "text/plain": [
       "[0, 1]"
      ]
     },
     "execution_count": 9,
     "metadata": {},
     "output_type": "execute_result"
    }
   ],
   "source": [
    "import pandas as pd\n",
    "\n",
    "# Create a list of DataFrames with the same shape\n",
    "dfs = [pd.DataFrame({'A': [0, 0, 1], 'B': [1, 0, 0], 'C': [1, 1, 0]}).to_numpy(),\n",
    "       pd.DataFrame({'A': [1, 0, 0], 'B': [0, 0, 1], 'C': [1, 0, 0]}).to_numpy(),\n",
    "       pd.DataFrame({'A': [0, 1, 0], 'B': [0, 0, 1], 'C': [0, 0, 0]}).to_numpy()]\n",
    "\n",
    "# Iterate through the DataFrames and check for the presence of 1\n",
    "print(dfs[0])\n",
    "row = 0\n",
    "col = 'C'\n",
    "def check_people(col, row, arrays):\n",
    "    name_list = []\n",
    "    for i, arr in enumerate(arrays):\n",
    "        if arr[row, col] == 1:\n",
    "            print(f\"DataFrame {i}, Row {row}, Column {col} contains 1\")\n",
    "            name_list.append(i)\n",
    "\n",
    "    return name_list    \n",
    "check_people(2, 0, dfs)"
   ]
  },
  {
   "cell_type": "code",
   "execution_count": 1,
   "metadata": {},
   "outputs": [
    {
     "name": "stdout",
     "output_type": "stream",
     "text": [
      "{'a': 1, 'c': 3, 'e': 5}\n"
     ]
    }
   ],
   "source": [
    "def filter_dict_by_keys(input_dict, key_list):\n",
    "    return {key: input_dict[key] for key in key_list if key in input_dict}\n",
    "\n",
    "# Example usage:\n",
    "input_dict = {\n",
    "    'a': 1,\n",
    "    'b': 2,\n",
    "    'c': 3,\n",
    "    'd': 4,\n",
    "    'e': 5\n",
    "}\n",
    "\n",
    "keys_to_keep = ['a', 'c', 'e']\n",
    "\n",
    "filtered_dict = filter_dict_by_keys(input_dict, keys_to_keep)\n",
    "print(filtered_dict)\n"
   ]
  }
 ],
 "metadata": {
  "kernelspec": {
   "display_name": "base",
   "language": "python",
   "name": "python3"
  },
  "language_info": {
   "codemirror_mode": {
    "name": "ipython",
    "version": 3
   },
   "file_extension": ".py",
   "mimetype": "text/x-python",
   "name": "python",
   "nbconvert_exporter": "python",
   "pygments_lexer": "ipython3",
   "version": "3.10.11"
  }
 },
 "nbformat": 4,
 "nbformat_minor": 2
}
